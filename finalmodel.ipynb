{
 "cells": [
  {
   "cell_type": "code",
   "execution_count": 1,
   "id": "a453602e",
   "metadata": {},
   "outputs": [],
   "source": [
    "import pandas as pd\n",
    "import numpy as np\n",
    "import pickle\n",
    "import os"
   ]
  },
  {
   "cell_type": "code",
   "execution_count": 2,
   "id": "8ccdf29c",
   "metadata": {},
   "outputs": [],
   "source": [
    "home = os.path.expanduser( '~' )\n",
    "with open('../train.pickle', 'rb') as f:\n",
    "    train = pickle.load(f)"
   ]
  },
  {
   "cell_type": "code",
   "execution_count": 3,
   "id": "755de83e",
   "metadata": {},
   "outputs": [],
   "source": [
    "df = pd.DataFrame.from_dict(train)"
   ]
  },
  {
   "cell_type": "code",
   "execution_count": 4,
   "id": "7d127cc6",
   "metadata": {},
   "outputs": [],
   "source": [
    "import re\n",
    "\n",
    "def helper_regex(string, pat):\n",
    "    string = str(string)\n",
    "    if pat == 'm2':\n",
    "        pattern = r'\\b(\\d+(\\.\\d+)?) m2\\b'\n",
    "    elif pat == 'bedrooms':\n",
    "        pattern = r'\\b(\\d+) hab\\b'\n",
    "    else:\n",
    "        pattern = r'\\b(\\d+) bañ(o|os)\\b'\n",
    "    match = re.search(pattern, string)\n",
    "    return float(match.group(1)) if match else np.nan\n",
    "\n",
    "def clean_df(df, valid_df=None, valid=False):\n",
    "    df['m2'] = df.features.apply(helper_regex, args=('m2',))\n",
    "    df['bedrooms'] = df.features.apply(helper_regex, args=('bedrooms',))\n",
    "    df['bathrooms'] = df.features.apply(helper_regex, args=('bathrooms',))\n",
    "    df['m2'].fillna(-1, inplace=True)\n",
    "    df['bedrooms'].fillna(-1, inplace=True)\n",
    "    df['bathrooms'].fillna(-1, inplace=True)\n",
    "    if valid:\n",
    "        valid_df['m2'] = valid_df.features.apply(helper_regex, args=('m2',))\n",
    "        valid_df['bedrooms'] = valid_df.features.apply(helper_regex, args=('bedrooms',))\n",
    "        valid_df['bathrooms'] = valid_df.features.apply(helper_regex, args=('bathrooms',))\n",
    "        valid_df['m2'].fillna(-1, inplace=True)\n",
    "        valid_df['bedrooms'].fillna(-1, inplace=True)\n",
    "        valid_df['bathrooms'].fillna(-1, inplace=True)\n",
    "        return valid_df[['m2','bedrooms','bathrooms','loc_string','type','desc']]\n",
    "    return df[['m2','bedrooms','bathrooms','loc_string','type','desc']], df['price'].str.split(' ', expand=True)[0].astype(float)"
   ]
  },
  {
   "cell_type": "code",
   "execution_count": 5,
   "id": "c0244891",
   "metadata": {},
   "outputs": [],
   "source": [
    "df_clean, target = clean_df(df)"
   ]
  },
  {
   "cell_type": "code",
   "execution_count": 6,
   "id": "bac080da",
   "metadata": {},
   "outputs": [
    {
     "data": {
      "text/html": [
       "<div>\n",
       "<style scoped>\n",
       "    .dataframe tbody tr th:only-of-type {\n",
       "        vertical-align: middle;\n",
       "    }\n",
       "\n",
       "    .dataframe tbody tr th {\n",
       "        vertical-align: top;\n",
       "    }\n",
       "\n",
       "    .dataframe thead th {\n",
       "        text-align: right;\n",
       "    }\n",
       "</style>\n",
       "<table border=\"1\" class=\"dataframe\">\n",
       "  <thead>\n",
       "    <tr style=\"text-align: right;\">\n",
       "      <th></th>\n",
       "      <th>m2</th>\n",
       "      <th>bedrooms</th>\n",
       "      <th>bathrooms</th>\n",
       "      <th>loc_string</th>\n",
       "      <th>type</th>\n",
       "      <th>desc</th>\n",
       "    </tr>\n",
       "  </thead>\n",
       "  <tbody>\n",
       "    <tr>\n",
       "      <th>0</th>\n",
       "      <td>85.0</td>\n",
       "      <td>2.0</td>\n",
       "      <td>1.0</td>\n",
       "      <td>Barcelona - Sant Antoni</td>\n",
       "      <td>FLAT</td>\n",
       "      <td>Piso en última planta a reformar en calle Tall...</td>\n",
       "    </tr>\n",
       "    <tr>\n",
       "      <th>1</th>\n",
       "      <td>65.0</td>\n",
       "      <td>2.0</td>\n",
       "      <td>1.0</td>\n",
       "      <td>Barcelona - Dreta de l´Eixample</td>\n",
       "      <td>FLAT</td>\n",
       "      <td>Ubicado en la zona del Camp de l’Arpa, cerca d...</td>\n",
       "    </tr>\n",
       "    <tr>\n",
       "      <th>2</th>\n",
       "      <td>77.0</td>\n",
       "      <td>2.0</td>\n",
       "      <td>1.0</td>\n",
       "      <td>Barcelona - Dreta de l´Eixample</td>\n",
       "      <td>FLAT</td>\n",
       "      <td>En pleno centro de Barcelona, justo al lado de...</td>\n",
       "    </tr>\n",
       "    <tr>\n",
       "      <th>3</th>\n",
       "      <td>96.0</td>\n",
       "      <td>3.0</td>\n",
       "      <td>2.0</td>\n",
       "      <td>Barcelona - Sant Antoni</td>\n",
       "      <td>FLAT</td>\n",
       "      <td>Vivienda espaciosa en Sant Antoni, cerca de Pl...</td>\n",
       "    </tr>\n",
       "    <tr>\n",
       "      <th>4</th>\n",
       "      <td>84.0</td>\n",
       "      <td>2.0</td>\n",
       "      <td>1.0</td>\n",
       "      <td>Barcelona - Sagrada Família</td>\n",
       "      <td>FLAT</td>\n",
       "      <td>En el corazón de Barcelona, en una hermosa fin...</td>\n",
       "    </tr>\n",
       "    <tr>\n",
       "      <th>...</th>\n",
       "      <td>...</td>\n",
       "      <td>...</td>\n",
       "      <td>...</td>\n",
       "      <td>...</td>\n",
       "      <td>...</td>\n",
       "      <td>...</td>\n",
       "    </tr>\n",
       "    <tr>\n",
       "      <th>861</th>\n",
       "      <td>115.0</td>\n",
       "      <td>3.0</td>\n",
       "      <td>1.0</td>\n",
       "      <td>Barcelona - Navas</td>\n",
       "      <td>FLAT</td>\n",
       "      <td>HANNAN-PIPER Real Estate les presenta, en excl...</td>\n",
       "    </tr>\n",
       "    <tr>\n",
       "      <th>862</th>\n",
       "      <td>82.0</td>\n",
       "      <td>3.0</td>\n",
       "      <td>1.0</td>\n",
       "      <td>Barcelona - Navas</td>\n",
       "      <td>FLAT</td>\n",
       "      <td>¡ OPORTUNIDAD !\\n\\nLa Casa Agency vende: Vivie...</td>\n",
       "    </tr>\n",
       "    <tr>\n",
       "      <th>863</th>\n",
       "      <td>79.0</td>\n",
       "      <td>4.0</td>\n",
       "      <td>2.0</td>\n",
       "      <td>Barcelona - Navas</td>\n",
       "      <td>FLAT</td>\n",
       "      <td>Piso totalmente REFORMADO y a ESTRENAR, con MU...</td>\n",
       "    </tr>\n",
       "    <tr>\n",
       "      <th>864</th>\n",
       "      <td>63.0</td>\n",
       "      <td>1.0</td>\n",
       "      <td>1.0</td>\n",
       "      <td>Barcelona - Navas</td>\n",
       "      <td>FLAT</td>\n",
       "      <td>Presentamos la oportunidad de comprar un bonit...</td>\n",
       "    </tr>\n",
       "    <tr>\n",
       "      <th>865</th>\n",
       "      <td>80.0</td>\n",
       "      <td>2.0</td>\n",
       "      <td>1.0</td>\n",
       "      <td>Barcelona - Navas</td>\n",
       "      <td>FLAT</td>\n",
       "      <td>Piso de 80 metros totalmente reformado en Sagr...</td>\n",
       "    </tr>\n",
       "  </tbody>\n",
       "</table>\n",
       "<p>866 rows × 6 columns</p>\n",
       "</div>"
      ],
      "text/plain": [
       "        m2  bedrooms  bathrooms                       loc_string  type  \\\n",
       "0     85.0       2.0        1.0          Barcelona - Sant Antoni  FLAT   \n",
       "1     65.0       2.0        1.0  Barcelona - Dreta de l´Eixample  FLAT   \n",
       "2     77.0       2.0        1.0  Barcelona - Dreta de l´Eixample  FLAT   \n",
       "3     96.0       3.0        2.0          Barcelona - Sant Antoni  FLAT   \n",
       "4     84.0       2.0        1.0      Barcelona - Sagrada Família  FLAT   \n",
       "..     ...       ...        ...                              ...   ...   \n",
       "861  115.0       3.0        1.0                Barcelona - Navas  FLAT   \n",
       "862   82.0       3.0        1.0                Barcelona - Navas  FLAT   \n",
       "863   79.0       4.0        2.0                Barcelona - Navas  FLAT   \n",
       "864   63.0       1.0        1.0                Barcelona - Navas  FLAT   \n",
       "865   80.0       2.0        1.0                Barcelona - Navas  FLAT   \n",
       "\n",
       "                                                  desc  \n",
       "0    Piso en última planta a reformar en calle Tall...  \n",
       "1    Ubicado en la zona del Camp de l’Arpa, cerca d...  \n",
       "2    En pleno centro de Barcelona, justo al lado de...  \n",
       "3    Vivienda espaciosa en Sant Antoni, cerca de Pl...  \n",
       "4    En el corazón de Barcelona, en una hermosa fin...  \n",
       "..                                                 ...  \n",
       "861  HANNAN-PIPER Real Estate les presenta, en excl...  \n",
       "862  ¡ OPORTUNIDAD !\\n\\nLa Casa Agency vende: Vivie...  \n",
       "863  Piso totalmente REFORMADO y a ESTRENAR, con MU...  \n",
       "864  Presentamos la oportunidad de comprar un bonit...  \n",
       "865  Piso de 80 metros totalmente reformado en Sagr...  \n",
       "\n",
       "[866 rows x 6 columns]"
      ]
     },
     "execution_count": 6,
     "metadata": {},
     "output_type": "execute_result"
    }
   ],
   "source": [
    "df_clean"
   ]
  },
  {
   "cell_type": "code",
   "execution_count": 7,
   "id": "620dd8e9",
   "metadata": {},
   "outputs": [],
   "source": [
    "def convert_dummies(df):\n",
    "    return pd.get_dummies(df, columns=['loc_string','type'])"
   ]
  },
  {
   "cell_type": "code",
   "execution_count": 8,
   "id": "f39a892b",
   "metadata": {},
   "outputs": [],
   "source": [
    "df_clean = convert_dummies(df_clean)"
   ]
  },
  {
   "cell_type": "code",
   "execution_count": 9,
   "id": "03904401",
   "metadata": {},
   "outputs": [],
   "source": [
    "from transformers import AutoModel, AutoTokenizer\n",
    "model_name = \"lxyuan/distilbert-base-multilingual-cased-sentiments-student\"\n",
    "tokenizer = AutoTokenizer.from_pretrained(model_name)\n",
    "model1 = AutoModel.from_pretrained(model_name)"
   ]
  },
  {
   "cell_type": "code",
   "execution_count": 10,
   "id": "b86fc55d",
   "metadata": {},
   "outputs": [],
   "source": [
    "import torch\n",
    "def generate_embeddings(text):\n",
    "    tokenized_text = tokenizer(text, padding=True, truncation=True, return_tensors=\"pt\")\n",
    "    with torch.no_grad():\n",
    "        outputs = model1(**tokenized_text)\n",
    "    embeddings = outputs.last_hidden_state.mean(dim=1)\n",
    "    return embeddings"
   ]
  },
  {
   "cell_type": "code",
   "execution_count": 11,
   "id": "7cc92db4",
   "metadata": {},
   "outputs": [],
   "source": [
    "embeddings = df_clean['desc'].apply(generate_embeddings)"
   ]
  },
  {
   "cell_type": "code",
   "execution_count": 12,
   "id": "38f02b91",
   "metadata": {},
   "outputs": [
    {
     "name": "stderr",
     "output_type": "stream",
     "text": [
      "huggingface/tokenizers: The current process just got forked, after parallelism has already been used. Disabling parallelism to avoid deadlocks...\n",
      "To disable this warning, you can either:\n",
      "\t- Avoid using `tokenizers` before the fork if possible\n",
      "\t- Explicitly set the environment variable TOKENIZERS_PARALLELISM=(true | false)\n"
     ]
    },
    {
     "data": {
      "text/html": [
       "<style>#sk-container-id-1 {color: black;}#sk-container-id-1 pre{padding: 0;}#sk-container-id-1 div.sk-toggleable {background-color: white;}#sk-container-id-1 label.sk-toggleable__label {cursor: pointer;display: block;width: 100%;margin-bottom: 0;padding: 0.3em;box-sizing: border-box;text-align: center;}#sk-container-id-1 label.sk-toggleable__label-arrow:before {content: \"▸\";float: left;margin-right: 0.25em;color: #696969;}#sk-container-id-1 label.sk-toggleable__label-arrow:hover:before {color: black;}#sk-container-id-1 div.sk-estimator:hover label.sk-toggleable__label-arrow:before {color: black;}#sk-container-id-1 div.sk-toggleable__content {max-height: 0;max-width: 0;overflow: hidden;text-align: left;background-color: #f0f8ff;}#sk-container-id-1 div.sk-toggleable__content pre {margin: 0.2em;color: black;border-radius: 0.25em;background-color: #f0f8ff;}#sk-container-id-1 input.sk-toggleable__control:checked~div.sk-toggleable__content {max-height: 200px;max-width: 100%;overflow: auto;}#sk-container-id-1 input.sk-toggleable__control:checked~label.sk-toggleable__label-arrow:before {content: \"▾\";}#sk-container-id-1 div.sk-estimator input.sk-toggleable__control:checked~label.sk-toggleable__label {background-color: #d4ebff;}#sk-container-id-1 div.sk-label input.sk-toggleable__control:checked~label.sk-toggleable__label {background-color: #d4ebff;}#sk-container-id-1 input.sk-hidden--visually {border: 0;clip: rect(1px 1px 1px 1px);clip: rect(1px, 1px, 1px, 1px);height: 1px;margin: -1px;overflow: hidden;padding: 0;position: absolute;width: 1px;}#sk-container-id-1 div.sk-estimator {font-family: monospace;background-color: #f0f8ff;border: 1px dotted black;border-radius: 0.25em;box-sizing: border-box;margin-bottom: 0.5em;}#sk-container-id-1 div.sk-estimator:hover {background-color: #d4ebff;}#sk-container-id-1 div.sk-parallel-item::after {content: \"\";width: 100%;border-bottom: 1px solid gray;flex-grow: 1;}#sk-container-id-1 div.sk-label:hover label.sk-toggleable__label {background-color: #d4ebff;}#sk-container-id-1 div.sk-serial::before {content: \"\";position: absolute;border-left: 1px solid gray;box-sizing: border-box;top: 0;bottom: 0;left: 50%;z-index: 0;}#sk-container-id-1 div.sk-serial {display: flex;flex-direction: column;align-items: center;background-color: white;padding-right: 0.2em;padding-left: 0.2em;position: relative;}#sk-container-id-1 div.sk-item {position: relative;z-index: 1;}#sk-container-id-1 div.sk-parallel {display: flex;align-items: stretch;justify-content: center;background-color: white;position: relative;}#sk-container-id-1 div.sk-item::before, #sk-container-id-1 div.sk-parallel-item::before {content: \"\";position: absolute;border-left: 1px solid gray;box-sizing: border-box;top: 0;bottom: 0;left: 50%;z-index: -1;}#sk-container-id-1 div.sk-parallel-item {display: flex;flex-direction: column;z-index: 1;position: relative;background-color: white;}#sk-container-id-1 div.sk-parallel-item:first-child::after {align-self: flex-end;width: 50%;}#sk-container-id-1 div.sk-parallel-item:last-child::after {align-self: flex-start;width: 50%;}#sk-container-id-1 div.sk-parallel-item:only-child::after {width: 0;}#sk-container-id-1 div.sk-dashed-wrapped {border: 1px dashed gray;margin: 0 0.4em 0.5em 0.4em;box-sizing: border-box;padding-bottom: 0.4em;background-color: white;}#sk-container-id-1 div.sk-label label {font-family: monospace;font-weight: bold;display: inline-block;line-height: 1.2em;}#sk-container-id-1 div.sk-label-container {text-align: center;}#sk-container-id-1 div.sk-container {/* jupyter's `normalize.less` sets `[hidden] { display: none; }` but bootstrap.min.css set `[hidden] { display: none !important; }` so we also need the `!important` here to be able to override the default hidden behavior on the sphinx rendered scikit-learn.org. See: https://github.com/scikit-learn/scikit-learn/issues/21755 */display: inline-block !important;position: relative;}#sk-container-id-1 div.sk-text-repr-fallback {display: none;}</style><div id=\"sk-container-id-1\" class=\"sk-top-container\"><div class=\"sk-text-repr-fallback\"><pre>StandardScaler()</pre><b>In a Jupyter environment, please rerun this cell to show the HTML representation or trust the notebook. <br />On GitHub, the HTML representation is unable to render, please try loading this page with nbviewer.org.</b></div><div class=\"sk-container\" hidden><div class=\"sk-item\"><div class=\"sk-estimator sk-toggleable\"><input class=\"sk-toggleable__control sk-hidden--visually\" id=\"sk-estimator-id-1\" type=\"checkbox\" checked><label for=\"sk-estimator-id-1\" class=\"sk-toggleable__label sk-toggleable__label-arrow\">StandardScaler</label><div class=\"sk-toggleable__content\"><pre>StandardScaler()</pre></div></div></div></div></div>"
      ],
      "text/plain": [
       "StandardScaler()"
      ]
     },
     "execution_count": 12,
     "metadata": {},
     "output_type": "execute_result"
    }
   ],
   "source": [
    "from sklearn.preprocessing import StandardScaler\n",
    "X_numeric = df_clean[['m2','bedrooms','bathrooms']]\n",
    "scaler = StandardScaler()\n",
    "scaler.fit(X_numeric)"
   ]
  },
  {
   "cell_type": "code",
   "execution_count": 21,
   "id": "773cf0e3",
   "metadata": {},
   "outputs": [],
   "source": [
    "x_scale = scaler.transform(X_numeric)\n",
    "x_loc = df_clean[[col for col in df_clean.columns if 'loc_string' in col or 'type' in col]].astype(float).to_numpy()"
   ]
  },
  {
   "cell_type": "code",
   "execution_count": 22,
   "id": "750f15b2",
   "metadata": {},
   "outputs": [],
   "source": [
    "from sklearn.model_selection import train_test_split\n",
    "\n",
    "# Train-test split\n",
    "X = torch.cat((torch.from_numpy(x_scale),torch.from_numpy(x_loc),torch.cat(embeddings.tolist())),1).float()\n",
    "y = torch.from_numpy(target.to_numpy())\n",
    "X_train, y_train = X, y"
   ]
  },
  {
   "cell_type": "code",
   "execution_count": 23,
   "id": "0b998f17",
   "metadata": {},
   "outputs": [],
   "source": [
    "import torch.nn as nn\n",
    "\n",
    "# Define PyTorch model\n",
    "class Net(nn.Module):\n",
    "    def __init__(self):\n",
    "        super(Net, self).__init__()\n",
    "        self.fc1 = nn.Linear(796, 128) \n",
    "        self.relu = nn.ReLU()\n",
    "        self.fc2 = nn.Linear(128, 1)\n",
    "        \n",
    "    def forward(self, x):\n",
    "        x = x.float()\n",
    "        x = self.fc1(x)\n",
    "        x = self.relu(x)\n",
    "        x = self.fc2(x)\n",
    "        return x"
   ]
  },
  {
   "cell_type": "code",
   "execution_count": 24,
   "id": "663da7ab",
   "metadata": {},
   "outputs": [],
   "source": [
    "import torch.optim as optim\n",
    "# Initialize model, loss function, and optimizer\n",
    "model2 = Net()\n",
    "criterion = nn.MSELoss()\n",
    "optimizer = optim.Adam(model2.parameters(), lr=0.001)\n",
    "# optimizer = optim.Adam(model2.parameters(), lr=0.1) \n",
    "# optimizer = optim.Adam(model2.parameters(), lr=0.01)"
   ]
  },
  {
   "cell_type": "code",
   "execution_count": 25,
   "id": "592b3ccc",
   "metadata": {},
   "outputs": [],
   "source": [
    "from sklearn.metrics import r2_score\n",
    "import torch.nn.functional as F\n",
    "import torch.optim as optim\n",
    "\n",
    "def val_metric(model, valid_dl):\n",
    "    model.eval()\n",
    "    losses = []\n",
    "    y_hats = []\n",
    "    ys = []\n",
    "    for x, y in valid_dl:\n",
    "        y_hat = model(x.float())\n",
    "        loss = F.mse_loss(y_hat, y.float().unsqueeze(1))\n",
    "        y_hats.append(y_hat.detach().numpy())\n",
    "        ys.append(y.numpy())\n",
    "        losses.append(loss.item())\n",
    "    \n",
    "    ys = np.concatenate(ys)\n",
    "    y_hats = np.concatenate(y_hats)\n",
    "    return np.mean(losses), r2_score(ys, y_hats)\n",
    "\n",
    "def train_loop(model, train_dl, optimizer, epochs):\n",
    "    losses = []\n",
    "    for i in range(epochs):\n",
    "        model.train()\n",
    "        for x, y in train_dl:\n",
    "            y_hat = model(x.float())\n",
    "            loss = F.mse_loss(y_hat, y.float().unsqueeze(1))\n",
    "            optimizer.zero_grad()\n",
    "            loss.backward()\n",
    "            optimizer.step()\n",
    "            losses.append(loss.item())\n",
    "        \n",
    "        train_loss = np.mean(losses)\n",
    "        if i%50 == 0:\n",
    "            print(\"train loss %.3f\" % \n",
    "                  (train_loss))"
   ]
  },
  {
   "cell_type": "code",
   "execution_count": 26,
   "id": "72e8d855",
   "metadata": {},
   "outputs": [],
   "source": [
    "from torch.utils.data import TensorDataset, DataLoader\n",
    "\n",
    "# Prepare DataLoader\n",
    "train_dataset = TensorDataset(X_train, y_train)\n",
    "train_loader = DataLoader(train_dataset, batch_size=64, shuffle=True)"
   ]
  },
  {
   "cell_type": "code",
   "execution_count": 27,
   "id": "db99b452",
   "metadata": {},
   "outputs": [
    {
     "name": "stdout",
     "output_type": "stream",
     "text": [
      "train loss 121400.119\n",
      "train loss 15888.523\n",
      "train loss 9798.998\n",
      "train loss 7512.246\n",
      "train loss 6268.480\n",
      "train loss 5476.640\n",
      "train loss 4925.066\n",
      "train loss 4518.606\n"
     ]
    }
   ],
   "source": [
    "train_loop(model2, train_loader, optimizer, epochs=400)"
   ]
  },
  {
   "cell_type": "code",
   "execution_count": 28,
   "id": "761a60ee",
   "metadata": {},
   "outputs": [],
   "source": [
    "# hyperparam search results\n",
    "\n",
    "# EPOCHS:\n",
    "# 400 selected as close to optimal\n",
    "# train loss 123146.778 valid loss 117264.086 R2 -20.045\n",
    "# train loss 19529.198 valid loss 4557.824 R2 0.213\n",
    "# train loss 11841.983 valid loss 3529.190 R2 0.390\n",
    "# train loss 9006.410 valid loss 2975.565 R2 0.485\n",
    "# train loss 7472.548 valid loss 2658.420 R2 0.537\n",
    "# train loss 6489.845 valid loss 2497.027 R2 0.562\n",
    "# train loss 5798.061 valid loss 2437.986 R2 0.569\n",
    "# train loss 5282.371 valid loss 2423.802 R2 0.569\n",
    "# train loss 4883.059 valid loss 2446.239 R2 0.563\n",
    "# train loss 4563.317 valid loss 2495.837 R2 0.553\n",
    "# train loss 4301.058 valid loss 2551.174 R2 0.543\n",
    "# train loss 4081.709 valid loss 2539.044 R2 0.544\n",
    "# train loss 3894.907 valid loss 2616.675 R2 0.530\n",
    "# train loss 3733.773 valid loss 2602.759 R2 0.531\n",
    "# train loss 3592.785 valid loss 2636.798 R2 0.525\n",
    "# train loss 3468.017 valid loss 2728.841 R2 0.509\n",
    "\n",
    "# Learning rate: 0.01\n",
    "# train loss 93144.997 valid loss 37365.315 R2 -5.702\n",
    "# train loss 5396.729 valid loss 2490.490 R2 0.559\n",
    "# train loss 3732.610 valid loss 2454.221 R2 0.560\n",
    "# train loss 3077.187 valid loss 2524.390 R2 0.547\n",
    "# train loss 2699.771 valid loss 2494.183 R2 0.552\n",
    "# train loss 2431.254 valid loss 2577.741 R2 0.536\n",
    "# train loss 2232.138 valid loss 2651.122 R2 0.523\n",
    "# train loss 2063.081 valid loss 2694.784 R2 0.516\n",
    "\n",
    "# Learning rate 0.1\n",
    "# train loss 29403.618 valid loss 4523.429 R2 0.221\n",
    "# train loss 3030.731 valid loss 2756.205 R2 0.512\n",
    "# train loss 2208.557 valid loss 3329.776 R2 0.401\n",
    "# train loss 1681.966 valid loss 4040.415 R2 0.281\n",
    "# train loss 1354.280 valid loss 4537.712 R2 0.191\n",
    "# train loss 1133.233 valid loss 4730.176 R2 0.153\n",
    "# train loss 969.536 valid loss 4680.087 R2 0.162\n",
    "# train loss 854.781 valid loss 4665.918 R2 0.171"
   ]
  },
  {
   "cell_type": "code",
   "execution_count": 29,
   "id": "04815f6e",
   "metadata": {},
   "outputs": [],
   "source": [
    "home = os.path.expanduser( '~' )\n",
    "with open(home + '/data/test_kaggle.pickle', 'rb') as f:\n",
    "    test = pickle.load(f) \n",
    "df_test = pd.DataFrame.from_dict(test)\n",
    "test_clean = clean_df(df, df_test, True)"
   ]
  },
  {
   "cell_type": "code",
   "execution_count": 30,
   "id": "20813d5e",
   "metadata": {},
   "outputs": [],
   "source": [
    "test_embed = df_test['desc'].apply(generate_embeddings)"
   ]
  },
  {
   "cell_type": "code",
   "execution_count": 31,
   "id": "bf0c9b7a",
   "metadata": {},
   "outputs": [],
   "source": [
    "test = convert_dummies(test_clean)\n"
   ]
  },
  {
   "cell_type": "code",
   "execution_count": 32,
   "id": "aa45186c",
   "metadata": {},
   "outputs": [],
   "source": [
    "for col in df_clean.columns:\n",
    "    if ('loc_string' in col) or 'type_' in col:\n",
    "        if col not in test.columns:\n",
    "            test[col] = False"
   ]
  },
  {
   "cell_type": "code",
   "execution_count": 33,
   "id": "e1997122",
   "metadata": {},
   "outputs": [],
   "source": [
    "x_test_scale = scaler.transform(test[['m2','bedrooms','bathrooms']])\n",
    "x_test_loc = test[[col for col in df_clean.columns if ('loc_string' in col) or 'type_' in col]].astype(float).to_numpy()"
   ]
  },
  {
   "cell_type": "code",
   "execution_count": 34,
   "id": "e03fe70f",
   "metadata": {},
   "outputs": [],
   "source": [
    "X = torch.cat((torch.from_numpy(x_test_scale),torch.from_numpy(x_test_loc),torch.cat(test_embed.tolist())),1).float()"
   ]
  },
  {
   "cell_type": "code",
   "execution_count": 35,
   "id": "46b95dc4",
   "metadata": {},
   "outputs": [],
   "source": [
    "yhat = model2(X)"
   ]
  },
  {
   "cell_type": "code",
   "execution_count": 36,
   "id": "45cd357a",
   "metadata": {},
   "outputs": [
    {
     "data": {
      "text/html": [
       "<style>#sk-container-id-2 {color: black;}#sk-container-id-2 pre{padding: 0;}#sk-container-id-2 div.sk-toggleable {background-color: white;}#sk-container-id-2 label.sk-toggleable__label {cursor: pointer;display: block;width: 100%;margin-bottom: 0;padding: 0.3em;box-sizing: border-box;text-align: center;}#sk-container-id-2 label.sk-toggleable__label-arrow:before {content: \"▸\";float: left;margin-right: 0.25em;color: #696969;}#sk-container-id-2 label.sk-toggleable__label-arrow:hover:before {color: black;}#sk-container-id-2 div.sk-estimator:hover label.sk-toggleable__label-arrow:before {color: black;}#sk-container-id-2 div.sk-toggleable__content {max-height: 0;max-width: 0;overflow: hidden;text-align: left;background-color: #f0f8ff;}#sk-container-id-2 div.sk-toggleable__content pre {margin: 0.2em;color: black;border-radius: 0.25em;background-color: #f0f8ff;}#sk-container-id-2 input.sk-toggleable__control:checked~div.sk-toggleable__content {max-height: 200px;max-width: 100%;overflow: auto;}#sk-container-id-2 input.sk-toggleable__control:checked~label.sk-toggleable__label-arrow:before {content: \"▾\";}#sk-container-id-2 div.sk-estimator input.sk-toggleable__control:checked~label.sk-toggleable__label {background-color: #d4ebff;}#sk-container-id-2 div.sk-label input.sk-toggleable__control:checked~label.sk-toggleable__label {background-color: #d4ebff;}#sk-container-id-2 input.sk-hidden--visually {border: 0;clip: rect(1px 1px 1px 1px);clip: rect(1px, 1px, 1px, 1px);height: 1px;margin: -1px;overflow: hidden;padding: 0;position: absolute;width: 1px;}#sk-container-id-2 div.sk-estimator {font-family: monospace;background-color: #f0f8ff;border: 1px dotted black;border-radius: 0.25em;box-sizing: border-box;margin-bottom: 0.5em;}#sk-container-id-2 div.sk-estimator:hover {background-color: #d4ebff;}#sk-container-id-2 div.sk-parallel-item::after {content: \"\";width: 100%;border-bottom: 1px solid gray;flex-grow: 1;}#sk-container-id-2 div.sk-label:hover label.sk-toggleable__label {background-color: #d4ebff;}#sk-container-id-2 div.sk-serial::before {content: \"\";position: absolute;border-left: 1px solid gray;box-sizing: border-box;top: 0;bottom: 0;left: 50%;z-index: 0;}#sk-container-id-2 div.sk-serial {display: flex;flex-direction: column;align-items: center;background-color: white;padding-right: 0.2em;padding-left: 0.2em;position: relative;}#sk-container-id-2 div.sk-item {position: relative;z-index: 1;}#sk-container-id-2 div.sk-parallel {display: flex;align-items: stretch;justify-content: center;background-color: white;position: relative;}#sk-container-id-2 div.sk-item::before, #sk-container-id-2 div.sk-parallel-item::before {content: \"\";position: absolute;border-left: 1px solid gray;box-sizing: border-box;top: 0;bottom: 0;left: 50%;z-index: -1;}#sk-container-id-2 div.sk-parallel-item {display: flex;flex-direction: column;z-index: 1;position: relative;background-color: white;}#sk-container-id-2 div.sk-parallel-item:first-child::after {align-self: flex-end;width: 50%;}#sk-container-id-2 div.sk-parallel-item:last-child::after {align-self: flex-start;width: 50%;}#sk-container-id-2 div.sk-parallel-item:only-child::after {width: 0;}#sk-container-id-2 div.sk-dashed-wrapped {border: 1px dashed gray;margin: 0 0.4em 0.5em 0.4em;box-sizing: border-box;padding-bottom: 0.4em;background-color: white;}#sk-container-id-2 div.sk-label label {font-family: monospace;font-weight: bold;display: inline-block;line-height: 1.2em;}#sk-container-id-2 div.sk-label-container {text-align: center;}#sk-container-id-2 div.sk-container {/* jupyter's `normalize.less` sets `[hidden] { display: none; }` but bootstrap.min.css set `[hidden] { display: none !important; }` so we also need the `!important` here to be able to override the default hidden behavior on the sphinx rendered scikit-learn.org. See: https://github.com/scikit-learn/scikit-learn/issues/21755 */display: inline-block !important;position: relative;}#sk-container-id-2 div.sk-text-repr-fallback {display: none;}</style><div id=\"sk-container-id-2\" class=\"sk-top-container\"><div class=\"sk-text-repr-fallback\"><pre>XGBRegressor(base_score=None, booster=None, callbacks=None,\n",
       "             colsample_bylevel=None, colsample_bynode=None,\n",
       "             colsample_bytree=None, device=None, early_stopping_rounds=None,\n",
       "             enable_categorical=False, eta=0.08, eval_metric=None,\n",
       "             feature_types=None, gamma=None, grow_policy=None,\n",
       "             importance_type=None, interaction_constraints=None,\n",
       "             learning_rate=None, max_bin=None, max_cat_threshold=None,\n",
       "             max_cat_to_onehot=None, max_delta_step=None, max_depth=4,\n",
       "             max_leaves=None, min_child_weight=None, missing=nan,\n",
       "             monotone_constraints=None, multi_strategy=None, n_estimators=None,\n",
       "             n_jobs=None, num_parallel_tree=None, ...)</pre><b>In a Jupyter environment, please rerun this cell to show the HTML representation or trust the notebook. <br />On GitHub, the HTML representation is unable to render, please try loading this page with nbviewer.org.</b></div><div class=\"sk-container\" hidden><div class=\"sk-item\"><div class=\"sk-estimator sk-toggleable\"><input class=\"sk-toggleable__control sk-hidden--visually\" id=\"sk-estimator-id-2\" type=\"checkbox\" checked><label for=\"sk-estimator-id-2\" class=\"sk-toggleable__label sk-toggleable__label-arrow\">XGBRegressor</label><div class=\"sk-toggleable__content\"><pre>XGBRegressor(base_score=None, booster=None, callbacks=None,\n",
       "             colsample_bylevel=None, colsample_bynode=None,\n",
       "             colsample_bytree=None, device=None, early_stopping_rounds=None,\n",
       "             enable_categorical=False, eta=0.08, eval_metric=None,\n",
       "             feature_types=None, gamma=None, grow_policy=None,\n",
       "             importance_type=None, interaction_constraints=None,\n",
       "             learning_rate=None, max_bin=None, max_cat_threshold=None,\n",
       "             max_cat_to_onehot=None, max_delta_step=None, max_depth=4,\n",
       "             max_leaves=None, min_child_weight=None, missing=nan,\n",
       "             monotone_constraints=None, multi_strategy=None, n_estimators=None,\n",
       "             n_jobs=None, num_parallel_tree=None, ...)</pre></div></div></div></div></div>"
      ],
      "text/plain": [
       "XGBRegressor(base_score=None, booster=None, callbacks=None,\n",
       "             colsample_bylevel=None, colsample_bynode=None,\n",
       "             colsample_bytree=None, device=None, early_stopping_rounds=None,\n",
       "             enable_categorical=False, eta=0.08, eval_metric=None,\n",
       "             feature_types=None, gamma=None, grow_policy=None,\n",
       "             importance_type=None, interaction_constraints=None,\n",
       "             learning_rate=None, max_bin=None, max_cat_threshold=None,\n",
       "             max_cat_to_onehot=None, max_delta_step=None, max_depth=4,\n",
       "             max_leaves=None, min_child_weight=None, missing=nan,\n",
       "             monotone_constraints=None, multi_strategy=None, n_estimators=None,\n",
       "             n_jobs=None, num_parallel_tree=None, ...)"
      ]
     },
     "execution_count": 36,
     "metadata": {},
     "output_type": "execute_result"
    }
   ],
   "source": [
    "from xgboost import XGBRegressor\n",
    "model = XGBRegressor(max_depth=4, eta=0.08)\n",
    "# fit model\n",
    "model.fit(X_train, y_train)"
   ]
  },
  {
   "cell_type": "code",
   "execution_count": 38,
   "id": "8b163b33",
   "metadata": {},
   "outputs": [],
   "source": [
    "y_pred = np.average( np.array([ model2(X).detach().numpy().flatten(), model.predict(X) ]), weights=[0.5,0.5], axis=0 )"
   ]
  },
  {
   "cell_type": "code",
   "execution_count": 39,
   "id": "6e7b73e9",
   "metadata": {},
   "outputs": [
    {
     "data": {
      "text/plain": [
       "array([352.01066589, 358.08151245, 279.99972534, 325.40510559,\n",
       "       348.45541382, 357.58998108, 381.3079834 , 223.58557129,\n",
       "       285.94612122, 263.77397156, 379.61616516, 419.2905426 ,\n",
       "       421.81385803, 366.35014343, 404.56719971, 327.65568542,\n",
       "       302.96418762, 410.04556274, 434.00343323, 309.56140137,\n",
       "       294.29801941, 337.60255432, 278.10189819, 389.8381958 ,\n",
       "       268.75813293, 303.85971069, 399.14006042, 341.24937439,\n",
       "       365.4130249 , 425.17485046, 336.34669495, 344.41622925,\n",
       "       376.60171509, 319.93681335, 442.46965027, 311.37174988,\n",
       "       417.75595093, 323.61358643, 406.09364319, 342.97799683,\n",
       "       388.93161011, 376.60171509, 286.68196106, 287.96488953,\n",
       "       395.3473053 , 426.59767151, 329.39526367, 412.76502991,\n",
       "       365.8416748 , 408.31678772, 287.4092865 , 397.12503052,\n",
       "       313.21864319, 295.40283203, 383.90316772, 239.15110016,\n",
       "       441.18609619, 344.30078125, 320.37319946, 381.3727417 ,\n",
       "       267.17189789, 332.4055481 , 351.659729  , 273.61616516,\n",
       "       334.37789917, 388.84669495, 357.30151367, 351.17585754,\n",
       "       351.87400818, 361.08598328, 350.03921509, 301.18873596,\n",
       "       388.79931641, 401.28288269, 279.30879211, 337.48670959,\n",
       "       360.41133118, 290.44416809, 340.00080872, 341.76245117,\n",
       "       419.26748657, 375.89916992, 307.063797  , 376.04148865,\n",
       "       360.54666138, 389.33766174, 315.23924255, 427.93312073,\n",
       "       190.24302673, 392.65966797, 390.24984741, 220.72640228,\n",
       "       375.58892822, 345.99745178, 363.47886658, 341.73512268,\n",
       "       371.18421936, 355.55438232, 409.48564148, 291.99159241,\n",
       "       415.86930847, 344.13221741, 338.27854919, 402.09541321,\n",
       "       345.35908508, 305.89515686, 334.95114136, 365.01014709,\n",
       "       405.75860596, 409.74743652, 342.16090393, 235.63002014,\n",
       "       298.52044678, 415.20573425, 390.46455383, 362.162323  ,\n",
       "       407.3881073 , 364.49627686, 356.22238159, 413.65882874,\n",
       "       389.18571472, 306.27003479, 345.08421326, 383.81489563,\n",
       "       173.24414825, 421.20973206, 354.35189819, 381.27848816,\n",
       "       314.50204468, 309.28994751, 319.71795654, 356.83203125])"
      ]
     },
     "execution_count": 39,
     "metadata": {},
     "output_type": "execute_result"
    }
   ],
   "source": [
    "y_pred"
   ]
  },
  {
   "cell_type": "code",
   "execution_count": 40,
   "id": "709f6b5f",
   "metadata": {},
   "outputs": [
    {
     "data": {
      "text/html": [
       "<div>\n",
       "<style scoped>\n",
       "    .dataframe tbody tr th:only-of-type {\n",
       "        vertical-align: middle;\n",
       "    }\n",
       "\n",
       "    .dataframe tbody tr th {\n",
       "        vertical-align: top;\n",
       "    }\n",
       "\n",
       "    .dataframe thead th {\n",
       "        text-align: right;\n",
       "    }\n",
       "</style>\n",
       "<table border=\"1\" class=\"dataframe\">\n",
       "  <thead>\n",
       "    <tr style=\"text-align: right;\">\n",
       "      <th></th>\n",
       "      <th>0</th>\n",
       "    </tr>\n",
       "  </thead>\n",
       "  <tbody>\n",
       "    <tr>\n",
       "      <th>0</th>\n",
       "      <td>352.010666</td>\n",
       "    </tr>\n",
       "    <tr>\n",
       "      <th>1</th>\n",
       "      <td>358.081512</td>\n",
       "    </tr>\n",
       "    <tr>\n",
       "      <th>2</th>\n",
       "      <td>279.999725</td>\n",
       "    </tr>\n",
       "    <tr>\n",
       "      <th>3</th>\n",
       "      <td>325.405106</td>\n",
       "    </tr>\n",
       "    <tr>\n",
       "      <th>4</th>\n",
       "      <td>348.455414</td>\n",
       "    </tr>\n",
       "    <tr>\n",
       "      <th>...</th>\n",
       "      <td>...</td>\n",
       "    </tr>\n",
       "    <tr>\n",
       "      <th>127</th>\n",
       "      <td>381.278488</td>\n",
       "    </tr>\n",
       "    <tr>\n",
       "      <th>128</th>\n",
       "      <td>314.502045</td>\n",
       "    </tr>\n",
       "    <tr>\n",
       "      <th>129</th>\n",
       "      <td>309.289948</td>\n",
       "    </tr>\n",
       "    <tr>\n",
       "      <th>130</th>\n",
       "      <td>319.717957</td>\n",
       "    </tr>\n",
       "    <tr>\n",
       "      <th>131</th>\n",
       "      <td>356.832031</td>\n",
       "    </tr>\n",
       "  </tbody>\n",
       "</table>\n",
       "<p>132 rows × 1 columns</p>\n",
       "</div>"
      ],
      "text/plain": [
       "              0\n",
       "0    352.010666\n",
       "1    358.081512\n",
       "2    279.999725\n",
       "3    325.405106\n",
       "4    348.455414\n",
       "..          ...\n",
       "127  381.278488\n",
       "128  314.502045\n",
       "129  309.289948\n",
       "130  319.717957\n",
       "131  356.832031\n",
       "\n",
       "[132 rows x 1 columns]"
      ]
     },
     "execution_count": 40,
     "metadata": {},
     "output_type": "execute_result"
    }
   ],
   "source": [
    "out = pd.DataFrame(y_pred)\n",
    "out"
   ]
  },
  {
   "cell_type": "code",
   "execution_count": 41,
   "id": "95fe1b6c",
   "metadata": {},
   "outputs": [],
   "source": [
    "out = out.rename(columns={0: 'price'})\n",
    "out.index.names = ['id']\n",
    "out.to_csv('solution.csv')"
   ]
  },
  {
   "cell_type": "code",
   "execution_count": null,
   "id": "22f1de47",
   "metadata": {},
   "outputs": [],
   "source": []
  }
 ],
 "metadata": {
  "kernelspec": {
   "display_name": "Python 3 (ipykernel)",
   "language": "python",
   "name": "python3"
  },
  "language_info": {
   "codemirror_mode": {
    "name": "ipython",
    "version": 3
   },
   "file_extension": ".py",
   "mimetype": "text/x-python",
   "name": "python",
   "nbconvert_exporter": "python",
   "pygments_lexer": "ipython3",
   "version": "3.11.5"
  }
 },
 "nbformat": 4,
 "nbformat_minor": 5
}
